{
 "cells": [
  {
   "cell_type": "markdown",
   "id": "57e7f142",
   "metadata": {},
   "source": [
    "# Assignment : 2 Basic Static level2, Set 2"
   ]
  },
  {
   "cell_type": "markdown",
   "id": "bc018cc7",
   "metadata": {},
   "source": [
    "#### Email:babasahebmane5050@gmail.com"
   ]
  },
  {
   "cell_type": "code",
   "execution_count": 4,
   "id": "5de9038e",
   "metadata": {},
   "outputs": [],
   "source": [
    "import pandas as pd\n",
    "import numpy as np\n",
    "import matplotlib.pyplot as plt\n",
    "import scipy.stats as stats\n",
    "import seaborn as sns\n",
    "import statsmodels.api as smf\n",
    "import warnings\n",
    "warnings.filterwarnings('ignore')"
   ]
  },
  {
   "cell_type": "markdown",
   "id": "e082bca8",
   "metadata": {},
   "source": [
    "### Q1) The time required for servicing transmissions is normally distributed with µ = 45 minutes and σ = 8 minutes. The service manager plans to have work begin on the transmission of a customer’s car 10 minutes after the car is dropped off and the customer is told that the car will be ready within 1 hour from drop-off. What is the probability that the service manager cannot meet his commitment? \n",
    "\n"
   ]
  },
  {
   "cell_type": "markdown",
   "id": "c2fbf477",
   "metadata": {},
   "source": [
    "Ans:\n",
    "The service manager plans to work begin on the transmisssion of car 10 minutes after car is dropped off. so now µ becomes 55. \n",
    "\n",
    "mean = µ = 45+10 = 55.\n",
    "standard deviation(std) = σ = 8."
   ]
  },
  {
   "cell_type": "code",
   "execution_count": 7,
   "id": "eb5675f5",
   "metadata": {},
   "outputs": [
    {
     "name": "stdout",
     "output_type": "stream",
     "text": [
      " The probability that the service manager cannot meet his commitment 0.26599\n"
     ]
    }
   ],
   "source": [
    "df = stats.norm.sf(60, loc=55, scale=8)\n",
    "print(\" The probability that the service manager cannot meet his commitment\", np.round(df,5))"
   ]
  },
  {
   "cell_type": "markdown",
   "id": "ad1799a0",
   "metadata": {},
   "source": [
    "### Q2) The current age (in years) of 400 clerical employees at an insurance claims processing center is normally distributed with mean µ = 38 and Standard deviation σ = 6. For each statement below, please specify True/False. If false, briefly explain why."
   ]
  },
  {
   "cell_type": "markdown",
   "id": "6cf5c6f9",
   "metadata": {},
   "source": [
    "#### A) More employees at the processing center are older than 44 than between 38 and 44."
   ]
  },
  {
   "cell_type": "markdown",
   "id": "28d366c3",
   "metadata": {},
   "source": [
    "Ans:\n",
    "mean = µ = 38\n",
    "\n",
    "standard deviation = σ = 6"
   ]
  },
  {
   "cell_type": "code",
   "execution_count": 57,
   "id": "09e384e1",
   "metadata": {},
   "outputs": [
    {
     "data": {
      "text/plain": [
       "0.15865525393145707"
      ]
     },
     "execution_count": 57,
     "metadata": {},
     "output_type": "execute_result"
    }
   ],
   "source": [
    "#p(x>40);  It means Probability of Employess older than 44 yeras of age.\n",
    "prob_44=1-stats.norm.cdf(44, loc=38, scale=6)\n",
    "prob_44"
   ]
  },
  {
   "cell_type": "code",
   "execution_count": 58,
   "id": "60a27a68",
   "metadata": {},
   "outputs": [
    {
     "name": "stdout",
     "output_type": "stream",
     "text": [
      "Probability of Employess older than 44 yeras of age 15.87 %\n"
     ]
    }
   ],
   "source": [
    "print(\"Probability of Employess older than 44 yeras of age\", np.round(prob_44*100,2),'%')"
   ]
  },
  {
   "cell_type": "code",
   "execution_count": 60,
   "id": "d603d62d",
   "metadata": {},
   "outputs": [
    {
     "data": {
      "text/plain": [
       "0.3413447460685429"
      ]
     },
     "execution_count": 60,
     "metadata": {},
     "output_type": "execute_result"
    }
   ],
   "source": [
    "# P(38<X<44); It means Probability of Employees between 38 to 44 years of age.\n",
    "prob_38_between_44=stats.norm.cdf(44,38,6)-stats.norm.cdf(38,38,6)\n",
    "prob_38_between_44"
   ]
  },
  {
   "cell_type": "code",
   "execution_count": 61,
   "id": "77a722b7",
   "metadata": {},
   "outputs": [
    {
     "name": "stdout",
     "output_type": "stream",
     "text": [
      "Probability of Employees between 38 to 44 years of age. 34.13 %\n"
     ]
    }
   ],
   "source": [
    "print(\"Probability of Employees between 38 to 44 years of age.\", np.round(prob_38_between_44*100,2),'%')"
   ]
  },
  {
   "cell_type": "markdown",
   "id": "f4456145",
   "metadata": {},
   "source": [
    "Ans:\n",
    "\n",
    "Answer is false, Because Probability of Employees between 38 to 44 years of age is 34.13 % which is more than Probability of Employess older than 44 yeras of age 15.86 %."
   ]
  },
  {
   "cell_type": "markdown",
   "id": "be94559a",
   "metadata": {},
   "source": [
    "#### B) A training program for employees under the age of 30 at the center would be expected to attract about 36 employees."
   ]
  },
  {
   "cell_type": "code",
   "execution_count": 17,
   "id": "dc58a2a9",
   "metadata": {},
   "outputs": [
    {
     "data": {
      "text/plain": [
       "0.09121121972586788"
      ]
     },
     "execution_count": 17,
     "metadata": {},
     "output_type": "execute_result"
    }
   ],
   "source": [
    "stats.norm.cdf(30, loc=38, scale=6)"
   ]
  },
  {
   "cell_type": "code",
   "execution_count": 18,
   "id": "58243dcf",
   "metadata": {},
   "outputs": [
    {
     "name": "stdout",
     "output_type": "stream",
     "text": [
      "A training program for employees under the age of 30 at the center would be expected to attract about 36.48 %\n"
     ]
    }
   ],
   "source": [
    "print(\"A training program for employees under the age of 30 at the center would be expected to attract about\", np.round(0.09121*400,2), '%')"
   ]
  },
  {
   "cell_type": "markdown",
   "id": "f536e2e9",
   "metadata": {},
   "source": [
    "### Q3) If X1 ~ N(μ, σ2) and X2 ~ N(μ, σ2) are iid normal random variables, then what is the difference between 2 X1 and X1 + X2? Discuss both their distributions and parameters.       \n",
    "\n"
   ]
  },
  {
   "cell_type": "markdown",
   "id": "c6078ee6",
   "metadata": {},
   "source": [
    "Ans- As we know that if  X ~ N(µ1, σ1^2 ), and  Y ~ N(µ2, σ2^2 ) are two independent  random variables,\n",
    "\n",
    "then  \n",
    "X + Y = N(µ1 + µ2, σ1^2 + σ2^2 ) , and      X − Y = N(µ1 − µ2, σ1^2 + σ2^2 ) .\n",
    "\n",
    "Similarly if  Z = aX + bY , where X and Y are as defined above, i.e Z is linear combination of X and Y , \n",
    "\n",
    "then, putting X and Y values in above Z equation,\n",
    "\n",
    "Z = N(aµ1 + bµ2, a^2σ1^2 + b^2σ2^2 ).\n",
    "\n",
    "Therefore in the question\n",
    "2X1= N(2 u,4 σ^2) and \n",
    "\n",
    "X1+X2 =  N(µ + µ, σ^2 + σ^2 )\n",
    "\n",
    "= N(2 u, 2σ^2 )\n",
    "   \n",
    "So Now difference between 2X1 and X1+X2\n",
    "\n",
    "2X1-(X1+X2) = N( 4µ,6 σ^2)."
   ]
  },
  {
   "cell_type": "markdown",
   "id": "4ad2b250",
   "metadata": {},
   "source": [
    "### Q4) Let X ~ N(100, 20^2). Find two values, a and b, symmetric about the mean, such that the probability of the random variable taking a value between them is 0.99. \n",
    "\n"
   ]
  },
  {
   "cell_type": "markdown",
   "id": "21bb4c4b",
   "metadata": {},
   "source": [
    "Gievn:\n",
    "\n",
    "mean = 100\n",
    "    \n",
    "standard deviation = std = 20\n",
    "\n",
    "From the above details,we have to exclude .005% area from each\n",
    "left and right tails. Hence, we want to find the 0.005th and the \n",
    "0.995th percentiles Z score values."
   ]
  },
  {
   "cell_type": "code",
   "execution_count": 25,
   "id": "059c0b1f",
   "metadata": {},
   "outputs": [
    {
     "data": {
      "text/plain": [
       "-2.58"
      ]
     },
     "execution_count": 25,
     "metadata": {},
     "output_type": "execute_result"
    }
   ],
   "source": [
    "# find out z score for 0.005 percentiles\n",
    "z_005 = np.round(stats.norm.ppf(0.005),2)\n",
    "z_005"
   ]
  },
  {
   "cell_type": "code",
   "execution_count": 27,
   "id": "d0cd3e09",
   "metadata": {},
   "outputs": [
    {
     "data": {
      "text/plain": [
       "2.58"
      ]
     },
     "execution_count": 27,
     "metadata": {},
     "output_type": "execute_result"
    }
   ],
   "source": [
    "# find out z score for 0.99 percentiles\n",
    "z_099 = np.round(stats.norm.ppf(0.995),2)\n",
    "z_099"
   ]
  },
  {
   "cell_type": "code",
   "execution_count": 38,
   "id": "5a3ed8de",
   "metadata": {},
   "outputs": [
    {
     "name": "stdout",
     "output_type": "stream",
     "text": [
      "The Values of a and b : 48.4 151.6\n"
     ]
    }
   ],
   "source": [
    "# Now find out a and b values.\n",
    "a = np.round((z_005*20)+100,1)\n",
    "b = np.round((z_099*20)+100,1)\n",
    "print(\"The Values of a and b :\", a ,b)\n"
   ]
  },
  {
   "cell_type": "markdown",
   "id": "46c6552e",
   "metadata": {},
   "source": [
    "### Q5) Consider a company that has two different divisions. The annual profits from the two divisions are independent and have distributions Profit1 ~ N(5, 3^2) and Profit2 ~ N(7, 4^2) respectively. Both the profits are in  Doller Million. Answer the following questions about the total profit of the company in Rupees. \n",
    "Assume that $1 = Rs. 45"
   ]
  },
  {
   "cell_type": "code",
   "execution_count": 40,
   "id": "a60f73db",
   "metadata": {},
   "outputs": [
    {
     "name": "stdout",
     "output_type": "stream",
     "text": [
      "Mean Profit is Rs 540 Million\n"
     ]
    }
   ],
   "source": [
    "# Mean profits from two different divisions of a comapny = mean1+mean2\n",
    "mean = 5+7\n",
    "print(\"Mean Profit is Rs\", mean*45, 'Million')"
   ]
  },
  {
   "cell_type": "code",
   "execution_count": 42,
   "id": "6378323f",
   "metadata": {},
   "outputs": [
    {
     "name": "stdout",
     "output_type": "stream",
     "text": [
      "Standard Deviation is Rs 225.0 Million\n"
     ]
    }
   ],
   "source": [
    "# Variance of profits from two different divisions f company = std^2 =std^1+std^2\n",
    "std = np.sqrt((9)+(16))\n",
    "print('Standard Deviation is Rs',std*45, 'Million')"
   ]
  },
  {
   "cell_type": "markdown",
   "id": "1f4b18ea",
   "metadata": {},
   "source": [
    "#### A) Specify a Rupee range (centered on the mean) such that it contains 95% probability for the annual profit of the company."
   ]
  },
  {
   "cell_type": "code",
   "execution_count": 43,
   "id": "b1489fb7",
   "metadata": {},
   "outputs": [
    {
     "name": "stdout",
     "output_type": "stream",
     "text": [
      "Range is Rs (99.00810347848784, 980.9918965215122) in Millions\n"
     ]
    }
   ],
   "source": [
    "print('Range is Rs', (stats.norm.interval(0.95,540,225)), 'in Millions')"
   ]
  },
  {
   "cell_type": "markdown",
   "id": "dbd858b1",
   "metadata": {},
   "source": [
    "#### B) Specify the 5th percentile of profit (in Rupees) for the company"
   ]
  },
  {
   "cell_type": "code",
   "execution_count": 46,
   "id": "eba577a5",
   "metadata": {},
   "outputs": [
    {
     "name": "stdout",
     "output_type": "stream",
     "text": [
      "5th percentile of profit (in Rupees) is 170.0\n"
     ]
    }
   ],
   "source": [
    "#To compute 5th Percentile, we use the formula X=μ + Zσ; wherein from z table, 5 percentile = -1.645\n",
    "x =540+(-1.645)*(225)\n",
    "print(\"5th percentile of profit (in Rupees) is\",  np.round(x,))"
   ]
  },
  {
   "cell_type": "markdown",
   "id": "07ad2f19",
   "metadata": {},
   "source": [
    "#### C) Which of the two divisions has a larger probability of making a loss in a given year?"
   ]
  },
  {
   "cell_type": "code",
   "execution_count": 53,
   "id": "8d2a9076",
   "metadata": {},
   "outputs": [
    {
     "data": {
      "text/plain": [
       "(4.7790352272814705, '%')"
      ]
     },
     "execution_count": 53,
     "metadata": {},
     "output_type": "execute_result"
    }
   ],
   "source": [
    "#Probability of division 1 making a loss\n",
    "stats.norm.cdf(0,5,3)*100, \"%\""
   ]
  },
  {
   "cell_type": "code",
   "execution_count": 50,
   "id": "9939420e",
   "metadata": {},
   "outputs": [
    {
     "data": {
      "text/plain": [
       "(4.005915686381709, '%')"
      ]
     },
     "execution_count": 50,
     "metadata": {},
     "output_type": "execute_result"
    }
   ],
   "source": [
    "#Probability of division making a loss\n",
    "stats.norm.cdf(0,7,4)*100, '%'"
   ]
  },
  {
   "cell_type": "markdown",
   "id": "73fab6af",
   "metadata": {},
   "source": [
    "Ans:\n",
    "    Division 1 has a larger probability of making loss which is 4.77%"
   ]
  },
  {
   "cell_type": "code",
   "execution_count": null,
   "id": "edac4978",
   "metadata": {},
   "outputs": [],
   "source": []
  }
 ],
 "metadata": {
  "kernelspec": {
   "display_name": "Python 3 (ipykernel)",
   "language": "python",
   "name": "python3"
  },
  "language_info": {
   "codemirror_mode": {
    "name": "ipython",
    "version": 3
   },
   "file_extension": ".py",
   "mimetype": "text/x-python",
   "name": "python",
   "nbconvert_exporter": "python",
   "pygments_lexer": "ipython3",
   "version": "3.9.13"
  }
 },
 "nbformat": 4,
 "nbformat_minor": 5
}
